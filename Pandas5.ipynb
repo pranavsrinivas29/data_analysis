{
  "nbformat": 4,
  "nbformat_minor": 0,
  "metadata": {
    "colab": {
      "provenance": [],
      "authorship_tag": "ABX9TyMIEyQARru3u+9fLLD601XL",
      "include_colab_link": true
    },
    "kernelspec": {
      "name": "python3",
      "display_name": "Python 3"
    },
    "language_info": {
      "name": "python"
    }
  },
  "cells": [
    {
      "cell_type": "markdown",
      "metadata": {
        "id": "view-in-github",
        "colab_type": "text"
      },
      "source": [
        "<a href=\"https://colab.research.google.com/github/pranavsrinivas29/data_analysis/blob/main/Pandas5.ipynb\" target=\"_parent\"><img src=\"https://colab.research.google.com/assets/colab-badge.svg\" alt=\"Open In Colab\"/></a>"
      ]
    },
    {
      "cell_type": "markdown",
      "source": [
        "1. Creating a Time Series:"
      ],
      "metadata": {
        "id": "2Kkb3jJWXy0R"
      }
    },
    {
      "cell_type": "code",
      "execution_count": 10,
      "metadata": {
        "colab": {
          "base_uri": "https://localhost:8080/"
        },
        "id": "yWFT7qplXbrY",
        "outputId": "b12ab73b-c89b-42e6-d4f9-6410496480af"
      },
      "outputs": [
        {
          "output_type": "stream",
          "name": "stdout",
          "text": [
            "2023-01-01    0\n",
            "2023-01-02    1\n",
            "2023-01-03    2\n",
            "2023-01-04    3\n",
            "2023-01-05    4\n",
            "2023-01-06    5\n",
            "2023-01-07    6\n",
            "2023-01-08    7\n",
            "2023-01-09    8\n",
            "2023-01-10    9\n",
            "Freq: D, dtype: int64\n"
          ]
        }
      ],
      "source": [
        "import pandas as pd\n",
        "\n",
        "# Creating a time series with a DateTimeIndex\n",
        "date_rng = pd.date_range(start='2023-01-01', end='2023-06-30', freq='D')\n",
        "time_series_data = pd.Series(range(len(date_rng)), index=date_rng)\n",
        "\n",
        "print(time_series_data.head(10))\n"
      ]
    },
    {
      "cell_type": "markdown",
      "source": [
        "2. Resampling Time Series Data:"
      ],
      "metadata": {
        "id": "u5HuIOf_YNwP"
      }
    },
    {
      "cell_type": "code",
      "source": [
        "# Resampling to a weekly frequency\n",
        "weekly_data = time_series_data.resample('W').sum()\n",
        "\n",
        "print(weekly_data)\n"
      ],
      "metadata": {
        "colab": {
          "base_uri": "https://localhost:8080/"
        },
        "id": "B9QujyPNYOcc",
        "outputId": "a06ab9a8-d231-4cf7-abf8-e966c3c403cf"
      },
      "execution_count": 5,
      "outputs": [
        {
          "output_type": "stream",
          "name": "stdout",
          "text": [
            "2023-01-01       0\n",
            "2023-01-08      28\n",
            "2023-01-15      77\n",
            "2023-01-22     126\n",
            "2023-01-29     175\n",
            "2023-02-05     224\n",
            "2023-02-12     273\n",
            "2023-02-19     322\n",
            "2023-02-26     371\n",
            "2023-03-05     420\n",
            "2023-03-12     469\n",
            "2023-03-19     518\n",
            "2023-03-26     567\n",
            "2023-04-02     616\n",
            "2023-04-09     665\n",
            "2023-04-16     714\n",
            "2023-04-23     763\n",
            "2023-04-30     812\n",
            "2023-05-07     861\n",
            "2023-05-14     910\n",
            "2023-05-21     959\n",
            "2023-05-28    1008\n",
            "2023-06-04    1057\n",
            "2023-06-11    1106\n",
            "2023-06-18    1155\n",
            "2023-06-25    1204\n",
            "2023-07-02     890\n",
            "Freq: W-SUN, dtype: int64\n"
          ]
        }
      ]
    },
    {
      "cell_type": "code",
      "source": [
        "monthly_resampled_data = time_series_data.resample('M').mean()\n",
        "print(monthly_resampled_data)"
      ],
      "metadata": {
        "colab": {
          "base_uri": "https://localhost:8080/"
        },
        "id": "sVC3hb1xYZ13",
        "outputId": "c5a43967-68eb-4895-86e9-c51e7d718462"
      },
      "execution_count": 12,
      "outputs": [
        {
          "output_type": "stream",
          "name": "stdout",
          "text": [
            "2023-01-31     15.0\n",
            "2023-02-28     44.5\n",
            "2023-03-31     74.0\n",
            "2023-04-30    104.5\n",
            "2023-05-31    135.0\n",
            "2023-06-30    165.5\n",
            "Freq: M, dtype: float64\n"
          ]
        }
      ]
    },
    {
      "cell_type": "markdown",
      "source": [
        "3. Indexing and Slicing Time Series Data:"
      ],
      "metadata": {
        "id": "LrZrB5VDZ4Me"
      }
    },
    {
      "cell_type": "code",
      "source": [
        "# Selecting data for a specific date\n",
        "selected_date = time_series_data['2023-01-05']\n",
        "\n",
        "# Slicing data for a date range\n",
        "date_range_slice = time_series_data['2023-01-03':'2023-01-07']\n",
        "\n",
        "print(selected_date)\n",
        "print(date_range_slice)\n",
        "print(date_range_slice[1])"
      ],
      "metadata": {
        "colab": {
          "base_uri": "https://localhost:8080/"
        },
        "id": "lnBomzFgZ1td",
        "outputId": "97559f44-3875-4ce6-a193-8367977e3c53"
      },
      "execution_count": 14,
      "outputs": [
        {
          "output_type": "stream",
          "name": "stdout",
          "text": [
            "4\n",
            "2023-01-03    2\n",
            "2023-01-04    3\n",
            "2023-01-05    4\n",
            "2023-01-06    5\n",
            "2023-01-07    6\n",
            "Freq: D, dtype: int64\n",
            "3\n"
          ]
        }
      ]
    },
    {
      "cell_type": "markdown",
      "source": [
        "4. Shifting and Lagging:"
      ],
      "metadata": {
        "id": "jOONt2Esaahc"
      }
    },
    {
      "cell_type": "code",
      "source": [
        "# Shifting the time series forward by one day\n",
        "shifted_data = time_series_data.shift(1)\n",
        "\n",
        "print(shifted_data)\n"
      ],
      "metadata": {
        "colab": {
          "base_uri": "https://localhost:8080/"
        },
        "id": "Dm07AWrhabjA",
        "outputId": "29f0726e-1f10-438d-d92f-7e21fca4ab80"
      },
      "execution_count": 15,
      "outputs": [
        {
          "output_type": "stream",
          "name": "stdout",
          "text": [
            "2023-01-01      NaN\n",
            "2023-01-02      0.0\n",
            "2023-01-03      1.0\n",
            "2023-01-04      2.0\n",
            "2023-01-05      3.0\n",
            "              ...  \n",
            "2023-06-26    175.0\n",
            "2023-06-27    176.0\n",
            "2023-06-28    177.0\n",
            "2023-06-29    178.0\n",
            "2023-06-30    179.0\n",
            "Freq: D, Length: 181, dtype: float64\n"
          ]
        }
      ]
    },
    {
      "cell_type": "markdown",
      "source": [
        "If the original data type was integer and the shift introduces NaN values or if the data type is inferred to be floating-point, the result may be cast to float."
      ],
      "metadata": {
        "id": "fJhqgIiRasbn"
      }
    },
    {
      "cell_type": "markdown",
      "source": [
        "5. Rolling Windows:"
      ],
      "metadata": {
        "id": "Fi8L54bqazT4"
      }
    },
    {
      "cell_type": "code",
      "source": [
        "# Calculating the rolling mean over a window of 3 days\n",
        "rolling_mean = time_series_data.rolling(window=3).mean()\n",
        "\n",
        "print(rolling_mean)\n"
      ],
      "metadata": {
        "colab": {
          "base_uri": "https://localhost:8080/"
        },
        "id": "4Et9K49sasIG",
        "outputId": "e1b6a017-8059-460a-85a4-45ef50cbdb74"
      },
      "execution_count": 16,
      "outputs": [
        {
          "output_type": "stream",
          "name": "stdout",
          "text": [
            "2023-01-01      NaN\n",
            "2023-01-02      NaN\n",
            "2023-01-03      1.0\n",
            "2023-01-04      2.0\n",
            "2023-01-05      3.0\n",
            "              ...  \n",
            "2023-06-26    175.0\n",
            "2023-06-27    176.0\n",
            "2023-06-28    177.0\n",
            "2023-06-29    178.0\n",
            "2023-06-30    179.0\n",
            "Freq: D, Length: 181, dtype: float64\n"
          ]
        }
      ]
    },
    {
      "cell_type": "code",
      "source": [
        "rolling_mean_5 = time_series_data.rolling(window=5).mean()\n",
        "print(rolling_mean_5)"
      ],
      "metadata": {
        "colab": {
          "base_uri": "https://localhost:8080/"
        },
        "id": "iXI1NMjPasCm",
        "outputId": "9eb8bb64-0751-4a03-acb1-0ca980f6035f"
      },
      "execution_count": 17,
      "outputs": [
        {
          "output_type": "stream",
          "name": "stdout",
          "text": [
            "2023-01-01      NaN\n",
            "2023-01-02      NaN\n",
            "2023-01-03      NaN\n",
            "2023-01-04      NaN\n",
            "2023-01-05      2.0\n",
            "              ...  \n",
            "2023-06-26    174.0\n",
            "2023-06-27    175.0\n",
            "2023-06-28    176.0\n",
            "2023-06-29    177.0\n",
            "2023-06-30    178.0\n",
            "Freq: D, Length: 181, dtype: float64\n"
          ]
        }
      ]
    },
    {
      "cell_type": "markdown",
      "source": [
        "6. Time Zone Handling:"
      ],
      "metadata": {
        "id": "lwdtSNcYbKuo"
      }
    },
    {
      "cell_type": "code",
      "source": [
        "# Setting a specific time zone for the time series\n",
        "time_series_data = time_series_data.tz_localize('UTC').tz_convert('US/Eastern')\n",
        "\n",
        "print(time_series_data)\n"
      ],
      "metadata": {
        "colab": {
          "base_uri": "https://localhost:8080/"
        },
        "id": "iAlVZazBbJd0",
        "outputId": "c71003ef-c694-43ba-ad95-c627a02545d0"
      },
      "execution_count": 18,
      "outputs": [
        {
          "output_type": "stream",
          "name": "stdout",
          "text": [
            "2022-12-31 19:00:00-05:00      0\n",
            "2023-01-01 19:00:00-05:00      1\n",
            "2023-01-02 19:00:00-05:00      2\n",
            "2023-01-03 19:00:00-05:00      3\n",
            "2023-01-04 19:00:00-05:00      4\n",
            "                            ... \n",
            "2023-06-25 20:00:00-04:00    176\n",
            "2023-06-26 20:00:00-04:00    177\n",
            "2023-06-27 20:00:00-04:00    178\n",
            "2023-06-28 20:00:00-04:00    179\n",
            "2023-06-29 20:00:00-04:00    180\n",
            "Freq: D, Length: 181, dtype: int64\n"
          ]
        }
      ]
    },
    {
      "cell_type": "markdown",
      "source": [
        "7. Resampling and Plotting:"
      ],
      "metadata": {
        "id": "noSIBK0WbWtQ"
      }
    },
    {
      "cell_type": "code",
      "source": [
        "import matplotlib.pyplot as plt\n",
        "\n",
        "# Resampling to a daily frequency and plotting\n",
        "daily_data = time_series_data.resample('D').sum()\n",
        "daily_data.plot(style='-o')\n",
        "plt.title('Daily Resampled Time Series')\n",
        "plt.show()\n"
      ],
      "metadata": {
        "colab": {
          "base_uri": "https://localhost:8080/",
          "height": 468
        },
        "id": "BW0Csc-HbJPe",
        "outputId": "ba8b77d7-794d-4a0a-86db-a07e636f4082"
      },
      "execution_count": 19,
      "outputs": [
        {
          "output_type": "display_data",
          "data": {
            "text/plain": [
              "<Figure size 640x480 with 1 Axes>"
            ],
            "image/png": "[encoded data removed]"
          },
          "metadata": {}
        }
      ]
    }
  ]
}